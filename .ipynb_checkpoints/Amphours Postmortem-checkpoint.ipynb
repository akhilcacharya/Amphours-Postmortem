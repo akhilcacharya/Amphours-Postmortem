{
 "cells": [
  {
   "cell_type": "markdown",
   "metadata": {},
   "source": [
    "# Grabbing the Data\n"
   ]
  },
  {
   "cell_type": "markdown",
   "metadata": {},
   "source": [
    "Amphours was built with 2 collections in MongoDB - one for unique devices, and one for statistics read-outs. \n",
    "\n",
    "First, lets grab some data from both MongoDB instances. \n",
    "\n",
    "\n",
    "`$ mongoexport -h secret_DB.db_host.com:231337 -d amphours -c statistics -u username -p pass -o statistics.json --jsonArray`\n",
    "\n",
    "=> 63 records\n",
    "\n",
    "`$ mongoexport -h secret_DB.db_host.com:231337 -d amphours -c devices -u username -p pass -o devices.json --jsonArray`\n",
    "\n",
    "=> 54881 records\n",
    "\n",
    "Let's load it up. "
   ]
  },
  {
   "cell_type": "code",
   "execution_count": 9,
   "metadata": {
    "collapsed": false
   },
   "outputs": [
    {
     "name": "stdout",
     "output_type": "stream",
     "text": [
      "Devices\n",
      "[{u'_id': {u'$oid': u'57649f238b09bce65c43c7bb'},\n",
      "  u'count': 38,\n",
      "  u'friendlyname': u'Asus Nexus 7 (2013)',\n",
      "  u'name': u'asus Nexus 7',\n",
      "  u'rank': 1,\n",
      "  u'sot': {u'$numberLong': u'41976548'},\n",
      "  u'standby': {u'$numberLong': u'154386092'},\n",
      "  u'uniquedevices': 2},\n",
      " {u'_id': {u'$oid': u'57649f238b09bce65c43c7bc'},\n",
      "  u'count': 75,\n",
      "  u'friendlyname': u'Motorola Moto X 2013 (Europe)',\n",
      "  u'name': u'motorola XT1052',\n",
      "  u'rank': 2,\n",
      "  u'sot': {u'$numberLong': u'36933090'},\n",
      "  u'standby': {u'$numberLong': u'63887738'},\n",
      "  u'uniquedevices': 2},\n",
      " {u'_id': {u'$oid': u'57649f238b09bce65c43c7bd'},\n",
      "  u'count': 661,\n",
      "  u'friendlyname': u'Motorola Moto X Style (Pure Edition)',\n",
      "  u'name': u'motorola XT1575',\n",
      "  u'rank': 3,\n",
      "  u'sot': {u'$numberLong': u'32610548'},\n",
      "  u'standby': {u'$numberLong': u'39241215'},\n",
      "  u'uniquedevices': 10}]\n",
      "Statistics\n",
      "[{u'_id': {u'$oid': u'55ebccdfb94be457b7f38c2c'},\n",
      "  u'date': {u'$numberLong': u'1441516699'},\n",
      "  u'device': u'LGE LG-H811',\n",
      "  u'friendlyname': u'LGE LG-H811',\n",
      "  u'sot': {u'$numberLong': u'284368'},\n",
      "  u'total': {u'$numberLong': u'3718542'},\n",
      "  u'used': 3,\n",
      "  u'uuid': u'bc39765e-005d-4ecc-beb0-8eeb46e5edd5',\n",
      "  u'version': 22},\n",
      " {u'_id': {u'$oid': u'55ec6235b94be457b7f38c2d'},\n",
      "  u'date': {u'$numberLong': u'1441554929'},\n",
      "  u'device': u'LGE LG-H811',\n",
      "  u'friendlyname': u'LGE LG-H811',\n",
      "  u'sot': {u'$numberLong': u'1832653'},\n",
      "  u'total': {u'$numberLong': u'38208845'},\n",
      "  u'used': 37,\n",
      "  u'uuid': u'bc39765e-005d-4ecc-beb0-8eeb46e5edd5',\n",
      "  u'version': 22},\n",
      " {u'_id': {u'$oid': u'55ec77c7b94be457b7f38c2e'},\n",
      "  u'date': {u'$numberLong': u'1441560451'},\n",
      "  u'device': u'LGE LG-H811',\n",
      "  u'friendlyname': u'LGE LG-H811',\n",
      "  u'sot': {u'$numberLong': u'197945'},\n",
      "  u'total': {u'$numberLong': u'1963997'},\n",
      "  u'used': 4,\n",
      "  u'uuid': u'bc39765e-005d-4ecc-beb0-8eeb46e5edd5',\n",
      "  u'version': 22}]\n"
     ]
    }
   ],
   "source": [
    "import json \n",
    "from pprint import pprint\n",
    "\n",
    "with open('devices.json') as devices_raw: \n",
    "    devices = json.load(devices_raw)\n",
    "\n",
    "with open('statistics.json') as statistics_raw: \n",
    "    statistics = json.load(statistics_raw)\n",
    "    \n",
    "# Print out the last few\n",
    "print \"Devices\"\n",
    "pprint(devices[:3]) \n",
    "\n",
    "print \"Statistics\"\n",
    "pprint(statistics[:3])\n"
   ]
  },
  {
   "cell_type": "markdown",
   "metadata": {},
   "source": [
    "# Devices\n",
    "\n",
    "From the start, our strategy for Amphours was to start small on several different Android phone specific subreddits.  \n",
    "\n",
    "\n"
   ]
  },
  {
   "cell_type": "code",
   "execution_count": 11,
   "metadata": {
    "collapsed": false,
    "scrolled": true
   },
   "outputs": [
    {
     "name": "stdout",
     "output_type": "stream",
     "text": [
      "63\n"
     ]
    }
   ],
   "source": [
    "device_names = set() \n",
    "\n",
    "for device in devices: \n",
    "    device_names.add(device['friendlyname'])  \n",
    "\n",
    "print len(device_names)"
   ]
  },
  {
   "cell_type": "markdown",
   "metadata": {},
   "source": [
    "We got 63 different types! Yowza. Didn't expect that. \n",
    "\n",
    "(Though in fairness, most major manufacturers come up as different units because of region locking and carriers)\n",
    "\n",
    "Here's the distribution of users with these devices in an inappropriately large bar graph:"
   ]
  },
  {
   "cell_type": "code",
   "execution_count": 61,
   "metadata": {
    "collapsed": false
   },
   "outputs": [
    {
     "ename": "SyntaxError",
     "evalue": "invalid syntax (<ipython-input-61-0ea8354b54a3>, line 11)",
     "output_type": "error",
     "traceback": [
      "\u001b[1;36m  File \u001b[1;32m\"<ipython-input-61-0ea8354b54a3>\"\u001b[1;36m, line \u001b[1;32m11\u001b[0m\n\u001b[1;33m    pos = arange(len(names))+. len(names)    # the bar centers on the y axis\u001b[0m\n\u001b[1;37m                             ^\u001b[0m\n\u001b[1;31mSyntaxError\u001b[0m\u001b[1;31m:\u001b[0m invalid syntax\n"
     ]
    }
   ],
   "source": [
    "%matplotlib inline\n",
    "\n",
    "from pylab import *\n",
    "\n",
    "# Get # of uniques per device \n",
    "\n",
    "names = [device['friendlyname'] for device in devices]\n",
    "uniques = [1.0 * device['uniquedevices']/len(devices) for device in devices]\n",
    "\n",
    "val = uniques\n",
    "\n",
    "barh(pos, val, align='center')\n",
    "yticks(pos, tuple(names))\n",
    "xlabel('Performance')\n",
    "title('How fast do you want to go today?')\n",
    "grid(True)\n",
    "\n",
    "\n",
    "show()"
   ]
  },
  {
   "cell_type": "code",
   "execution_count": null,
   "metadata": {
    "collapsed": false
   },
   "outputs": [],
   "source": [
    "\n",
    "\n"
   ]
  }
 ],
 "metadata": {
  "celltoolbar": "Raw Cell Format",
  "kernelspec": {
   "display_name": "Python 2",
   "language": "python",
   "name": "python2"
  },
  "language_info": {
   "codemirror_mode": {
    "name": "ipython",
    "version": 2
   },
   "file_extension": ".py",
   "mimetype": "text/x-python",
   "name": "python",
   "nbconvert_exporter": "python",
   "pygments_lexer": "ipython2",
   "version": "2.7.11"
  }
 },
 "nbformat": 4,
 "nbformat_minor": 0
}
